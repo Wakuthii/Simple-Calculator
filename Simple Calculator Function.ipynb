{
 "cells": [
  {
   "cell_type": "code",
   "execution_count": 3,
   "id": "99145a8a",
   "metadata": {},
   "outputs": [
    {
     "name": "stdout",
     "output_type": "stream",
     "text": [
      "Please type the first number: 9000\n",
      "Please type the second number: 40\n",
      "What kind of operation would you like to perform?          \n",
      " Choose between \"+,-,*/\": /\n",
      "9000 / 40=225.0\n"
     ]
    }
   ],
   "source": [
    "def calc(a,b,op):\n",
    "    if op not in '+-/*':\n",
    "        return 'Please type in only these characters:\"+,-,/,*\" !'\n",
    "    if op == '+':\n",
    "        return(str(a) + ' '+ op + ' '+str(b) + '=' + str(a+b))\n",
    "    if op == '-':\n",
    "        return(str(a) + ' '+ op + ' '+str(b) + '=' + str(a-b))\n",
    "    if op == '*':\n",
    "        return(str(a) + '' + op + ' '+str(b) + '=' + str(a*b))\n",
    "    if op == '/':\n",
    "        return(str(a) + ' '+ op + ' '+str(b) + '=' + str(a/b))\n",
    "def main():\n",
    "    a = int(input('Please type the first number: '))\n",
    "    b = int(input('Please type the second number: '))\n",
    "    op = input(\n",
    "         'What kind of operation would you like to perform?\\\n",
    "          \\n Choose between \"+,-,*/\": ')\n",
    "    print(calc(a,b,op))\n",
    "if __name__ == '__main__':\n",
    "    main()"
   ]
  },
  {
   "cell_type": "code",
   "execution_count": null,
   "id": "896fa7df",
   "metadata": {},
   "outputs": [],
   "source": []
  }
 ],
 "metadata": {
  "kernelspec": {
   "display_name": "Python 3 (ipykernel)",
   "language": "python",
   "name": "python3"
  },
  "language_info": {
   "codemirror_mode": {
    "name": "ipython",
    "version": 3
   },
   "file_extension": ".py",
   "mimetype": "text/x-python",
   "name": "python",
   "nbconvert_exporter": "python",
   "pygments_lexer": "ipython3",
   "version": "3.9.7"
  }
 },
 "nbformat": 4,
 "nbformat_minor": 5
}
